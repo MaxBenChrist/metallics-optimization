{
 "cells": [
  {
   "cell_type": "markdown",
   "metadata": {},
   "source": [
    "This notebook can be used to sample the json files that serve as base for the hackaton"
   ]
  },
  {
   "cell_type": "code",
   "execution_count": null,
   "metadata": {},
   "outputs": [],
   "source": [
    "import pandas as pd\n",
    "import json\n",
    "import numpy as np\n",
    "from random import choice"
   ]
  },
  {
   "cell_type": "code",
   "execution_count": null,
   "metadata": {},
   "outputs": [],
   "source": [
    "def generate_subsequences_of_random_length(l, n, m, p):\n",
    "    \"\"\" Takes the list and generates subsequences of random length containing an element from l. \n",
    "    \n",
    "    The length of the subsequence is Binomial(m, p) distributed.\n",
    "    \n",
    "    Args:\n",
    "        l (list): the list with the elements of the subsequence\n",
    "        n (int): the size of the subsequence\n",
    "        m (int): the maximal size of subsequence (Binomial(m, p) distributed)\n",
    "        p (float): probability of the length of subsequence (Binomial(m, p) distributed)\n",
    "    \n",
    "    Will return the concatenated subsequences as list of size l.\n",
    "    \"\"\"\n",
    "    result = []\n",
    "    while len(result) < n:\n",
    "        result += [choice(l)] * int(np.random.binomial(m, p, 1))\n",
    "                   \n",
    "    return result[:n]\n",
    "    "
   ]
  },
  {
   "cell_type": "code",
   "execution_count": null,
   "metadata": {
    "scrolled": true
   },
   "outputs": [],
   "source": [
    "r = generate_subsequences_of_random_length(range(5), 30, 5, 0.5)\n",
    "np.array(r)"
   ]
  },
  {
   "cell_type": "markdown",
   "metadata": {},
   "source": [
    "# Prod schedule"
   ]
  },
  {
   "cell_type": "code",
   "execution_count": null,
   "metadata": {
    "scrolled": true
   },
   "outputs": [],
   "source": [
    "n_total = 100\n",
    "n_seq = 8\n",
    "\n",
    "\n",
    "grade = generate_subsequences_of_random_length([\"STI1\", \"ST2\", \"PPQ\"], n_total, 10, 0.3)\n",
    "\n",
    "\n",
    "df_prod_sced = pd.DataFrame({\"heat_sq\": np.repeat(range(1, n_total//n_seq + 2), n_seq)[:n_total], \n",
    "                             \"head_id\": [f\"heat-{i}\" for i in range(n_total)],\n",
    "                             \"steel_grade\": grade,\n",
    "                             \"required_weight\": np.random.binomial(2000, 0.5, size=n_total),\n",
    "                             \"chemistry\": [{\"cu_pct\": choice([0.08, 0.1, 0.12])} for _ in range(n_total)]\n",
    "                            })\n",
    "df_prod_sced"
   ]
  },
  {
   "cell_type": "code",
   "execution_count": null,
   "metadata": {},
   "outputs": [],
   "source": [
    "with open('production_schedule2.json', 'w') as outfile:\n",
    "    json.dump(df_prod_sced.to_dict(orient='record'), outfile)"
   ]
  },
  {
   "cell_type": "markdown",
   "metadata": {},
   "source": [
    "# Inventory"
   ]
  },
  {
   "cell_type": "code",
   "execution_count": null,
   "metadata": {},
   "outputs": [],
   "source": [
    "df_inventory = pd.DataFrame({\"scrap_type\":[\"bushling\", \"pig_iron\"], \n",
    "                             \"required_weight\": np.random.binomial(10000, 0.7, size=2),\n",
    "                             \"status\": \"on_hand\"\n",
    "                            })\n",
    "df_inventory"
   ]
  },
  {
   "cell_type": "code",
   "execution_count": null,
   "metadata": {},
   "outputs": [],
   "source": [
    "with open('srap_inventory2.json', 'w') as outfile:\n",
    "    json.dump(df_inventory.to_dict(orient='record'), outfile)"
   ]
  },
  {
   "cell_type": "markdown",
   "metadata": {},
   "source": [
    "# Orders"
   ]
  },
  {
   "cell_type": "code",
   "execution_count": null,
   "metadata": {},
   "outputs": [],
   "source": [
    "df_order = pd.DataFrame({\"scrap_type\": [\"bushling\", \"pig_iron\"], \n",
    "                         \"order_date\":[\"20190405\", \"20190406\"], \n",
    "                         \"status\": \"delivered\", \n",
    "                         \"weight\": np.random.binomial(10000, 0.7, size=2), \n",
    "                         \"price_per_ton\": np.random.binomial(200, 0.7, size=2)\n",
    "                        })\n",
    "df_order"
   ]
  },
  {
   "cell_type": "code",
   "execution_count": null,
   "metadata": {},
   "outputs": [],
   "source": [
    "with open('srap_orders2.json', 'w') as outfile:\n",
    "    json.dump(df_order.to_dict(orient='record'), outfile)"
   ]
  }
 ],
 "metadata": {
  "kernelspec": {
   "display_name": "Python 3",
   "language": "python",
   "name": "python3"
  },
  "language_info": {
   "codemirror_mode": {
    "name": "ipython",
    "version": 3
   },
   "file_extension": ".py",
   "mimetype": "text/x-python",
   "name": "python",
   "nbconvert_exporter": "python",
   "pygments_lexer": "ipython3",
   "version": "3.7.3"
  }
 },
 "nbformat": 4,
 "nbformat_minor": 2
}
