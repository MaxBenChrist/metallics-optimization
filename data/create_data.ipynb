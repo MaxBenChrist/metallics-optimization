{
 "cells": [
  {
   "cell_type": "markdown",
   "metadata": {},
   "source": [
    "This notebook can be used to sample the json files that serve as base for the hackaton"
   ]
  },
  {
   "cell_type": "code",
   "execution_count": null,
   "metadata": {},
   "outputs": [],
   "source": [
    "import pandas as pd\n",
    "import json\n",
    "import numpy as np"
   ]
  },
  {
   "cell_type": "markdown",
   "metadata": {},
   "source": [
    "# Prod schedule"
   ]
  },
  {
   "cell_type": "code",
   "execution_count": null,
   "metadata": {},
   "outputs": [],
   "source": [
    "df_prod_sced = pd.DataFrame({\"heat_sq\":[1, 2], \n",
    "                             \"head_id\": [\"heat-1\", \"heat-12\"],\n",
    "                            \"steel_grade\": \"ST1\",\n",
    "                           \"required_weight\": np.random.binomial(2000, 0.5, size=2),\n",
    "                            \"chemistry\": [{\"cu_pct\": 0.1}, {\"cu_pct\": 0.1}]})\n",
    "df_prod_sced"
   ]
  },
  {
   "cell_type": "code",
   "execution_count": null,
   "metadata": {},
   "outputs": [],
   "source": [
    "with open('production_schedule2.json', 'w') as outfile:\n",
    "    json.dump(df_prod_sced.to_dict(orient='record'), outfile)"
   ]
  },
  {
   "cell_type": "markdown",
   "metadata": {},
   "source": [
    "# Inventory"
   ]
  },
  {
   "cell_type": "code",
   "execution_count": null,
   "metadata": {},
   "outputs": [],
   "source": [
    "df_inventory = pd.DataFrame({\"scrap_type\":[\"bushling\", \"pig_iron\"], \n",
    "                             \"required_weight\": np.random.binomial(10000, 0.7, size=2),\n",
    "                             \"status\": \"on_hand\"\n",
    "                            })\n",
    "df_inventory"
   ]
  },
  {
   "cell_type": "code",
   "execution_count": null,
   "metadata": {},
   "outputs": [],
   "source": [
    "with open('srap_inventory2.json', 'w') as outfile:\n",
    "    json.dump(df_inventory.to_dict(orient='record'), outfile)"
   ]
  },
  {
   "cell_type": "markdown",
   "metadata": {},
   "source": [
    "# Orders"
   ]
  },
  {
   "cell_type": "code",
   "execution_count": null,
   "metadata": {},
   "outputs": [],
   "source": [
    "df_order = pd.DataFrame({\"scrap_type\": [\"bushling\", \"pig_iron\"], \n",
    "                         \"order_date\":[\"20190405\", \"20190406\"], \n",
    "                         \"status\": \"delivered\", \n",
    "                         \"weight\": np.random.binomial(10000, 0.7, size=2), \n",
    "                         \"price_per_ton\": np.random.binomial(200, 0.7, size=2)\n",
    "                        })\n",
    "df_order"
   ]
  },
  {
   "cell_type": "code",
   "execution_count": null,
   "metadata": {},
   "outputs": [],
   "source": [
    "with open('srap_orders2.json', 'w') as outfile:\n",
    "    json.dump(df_order.to_dict(orient='record'), outfile)"
   ]
  }
 ],
 "metadata": {
  "kernelspec": {
   "display_name": "Python 3",
   "language": "python",
   "name": "python3"
  },
  "language_info": {
   "codemirror_mode": {
    "name": "ipython",
    "version": 3
   },
   "file_extension": ".py",
   "mimetype": "text/x-python",
   "name": "python",
   "nbconvert_exporter": "python",
   "pygments_lexer": "ipython3",
   "version": "3.7.3"
  }
 },
 "nbformat": 4,
 "nbformat_minor": 2
}
